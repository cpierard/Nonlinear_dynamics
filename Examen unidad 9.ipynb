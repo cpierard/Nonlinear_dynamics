{
 "cells": [
  {
   "cell_type": "code",
   "execution_count": 1,
   "metadata": {
    "collapsed": false
   },
   "outputs": [
    {
     "data": {
      "text/plain": [
       "5000×1 Array{Float64,2}:\n",
       "  3.61\n",
       "  4.31\n",
       "  4.83\n",
       "  5.18\n",
       "  5.36\n",
       "  5.31\n",
       "  5.15\n",
       "  4.92\n",
       "  4.23\n",
       "  3.53\n",
       "  2.84\n",
       "  1.86\n",
       "  0.89\n",
       "  ⋮   \n",
       " -0.32\n",
       "  1.25\n",
       "  2.53\n",
       "  4.03\n",
       "  5.39\n",
       "  6.38\n",
       "  7.38\n",
       "  8.17\n",
       "  8.5 \n",
       "  8.75\n",
       "  8.68\n",
       "  8.22"
      ]
     },
     "execution_count": 1,
     "metadata": {},
     "output_type": "execute_result"
    }
   ],
   "source": [
    "amplitude = readdlm(\"amplitude.dat\")"
   ]
  },
  {
   "cell_type": "code",
   "execution_count": 2,
   "metadata": {
    "collapsed": false
   },
   "outputs": [
    {
     "data": {
      "text/plain": [
       "delay_coord_embedding (generic function with 1 method)"
      ]
     },
     "execution_count": 2,
     "metadata": {},
     "output_type": "execute_result"
    }
   ],
   "source": [
    "function delay_coord_embedding(A::Array, m::Int, τ::Int)\n",
    "    \n",
    "    len_A = length(A) - τ*(m -1)\n",
    "    orbit = zeros(len_A, m)\n",
    "    \n",
    "    for i in 1:len_A\n",
    "        \n",
    "        for j in 1:m\n",
    "            \n",
    "            orbit[i, j] = A[i + (m - j)*τ]\n",
    "            \n",
    "        end\n",
    "        \n",
    "    end\n",
    "    \n",
    "    orbit\n",
    "    \n",
    "end"
   ]
  },
  {
   "cell_type": "code",
   "execution_count": 3,
   "metadata": {
    "collapsed": false
   },
   "outputs": [
    {
     "data": {
      "text/plain": [
       "Num_boxes_2D (generic function with 1 method)"
      ]
     },
     "execution_count": 3,
     "metadata": {},
     "output_type": "execute_result"
    }
   ],
   "source": [
    "function Num_boxes_2D(A, ɛ, x::Int, y::Int)\n",
    "    \n",
    "    mins = zeros(length(A[1,:]))\n",
    "    maxs = zeros(length(A[1,:]))\n",
    "\n",
    "    for i in 1:length(A[1,:])\n",
    "        \n",
    "        maxs[i] = maximum(A[:, i])\n",
    "        mins[i] = minimum(A[:, i])\n",
    "        \n",
    "    end\n",
    "    \n",
    "    Box_matrix = zeros(ceil(Int, (maxs[x] - mins[x])/ɛ) + 1, ceil(Int, (maxs[y] - mins[y])/ɛ) + 1)\n",
    "    \n",
    "    for i in 1:length(A[:, 1])\n",
    "        \n",
    "        x_cur = ceil(Int, (A[i, x] - mins[x])/ɛ) + 1\n",
    "        y_cur = ceil(Int, (A[i, y] - mins[y])/ɛ) + 1\n",
    "        \n",
    "        Box_matrix[x_cur, y_cur] = 1.0\n",
    "       \n",
    "    end\n",
    "\n",
    "    Box_matrix\n",
    "end "
   ]
  },
  {
   "cell_type": "code",
   "execution_count": 5,
   "metadata": {
    "collapsed": false
   },
   "outputs": [
    {
     "data": {
      "text/plain": [
       "4992×2 Array{Float64,2}:\n",
       "  4.23   3.61\n",
       "  3.53   4.31\n",
       "  2.84   4.83\n",
       "  1.86   5.18\n",
       "  0.89   5.36\n",
       " -0.31   5.31\n",
       " -1.38   5.15\n",
       " -2.5    4.92\n",
       " -3.47   4.23\n",
       " -4.46   3.53\n",
       " -5.4    2.84\n",
       " -5.98   1.86\n",
       " -6.52   0.89\n",
       "  ⋮          \n",
       " -0.32  -6.92\n",
       "  1.25  -6.89\n",
       "  2.53  -6.54\n",
       "  4.03  -5.92\n",
       "  5.39  -5.03\n",
       "  6.38  -4.06\n",
       "  7.38  -2.99\n",
       "  8.17  -1.64\n",
       "  8.5   -0.32\n",
       "  8.75   1.25\n",
       "  8.68   2.53\n",
       "  8.22   4.03"
      ]
     },
     "execution_count": 5,
     "metadata": {},
     "output_type": "execute_result"
    }
   ],
   "source": [
    "r1 = delay_coord_embedding(amplitude, 2, 8)"
   ]
  },
  {
   "cell_type": "code",
   "execution_count": 7,
   "metadata": {
    "collapsed": false
   },
   "outputs": [
    {
     "data": {
      "text/plain": [
       "2115.0"
      ]
     },
     "execution_count": 7,
     "metadata": {},
     "output_type": "execute_result"
    }
   ],
   "source": [
    "sum(Num_boxes_2D(r1, 0.5, 1, 2))"
   ]
  },
  {
   "cell_type": "code",
   "execution_count": 9,
   "metadata": {
    "collapsed": false
   },
   "outputs": [
    {
     "data": {
      "text/plain": [
       "1.5631555555555554"
      ]
     },
     "execution_count": 9,
     "metadata": {},
     "output_type": "execute_result"
    }
   ],
   "source": [
    "(-1.3687 + 4.8858)/(2.5 - 0.25)"
   ]
  },
  {
   "cell_type": "code",
   "execution_count": null,
   "metadata": {
    "collapsed": true
   },
   "outputs": [],
   "source": []
  }
 ],
 "metadata": {
  "kernelspec": {
   "display_name": "Julia 0.5.0",
   "language": "julia",
   "name": "julia-0.5"
  },
  "language_info": {
   "file_extension": ".jl",
   "mimetype": "application/julia",
   "name": "julia",
   "version": "0.5.0"
  }
 },
 "nbformat": 4,
 "nbformat_minor": 0
}
